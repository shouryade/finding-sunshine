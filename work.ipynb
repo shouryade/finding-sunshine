{
 "cells": [
  {
   "cell_type": "code",
   "execution_count": 2,
   "metadata": {},
   "outputs": [],
   "source": [
    "import cv2\n",
    "import os,logging\n",
    "import random\n",
    "import numpy as np\n",
    "from matplotlib import pyplot as plt\n",
    "logging.disable(logging.WARNING)\n",
    "os.environ[\"TF_CPP_MIN_LOG_LEVEL\"] = \"3\"\n",
    "import tensorflow as tf"
   ]
  },
  {
   "cell_type": "code",
   "execution_count": null,
   "metadata": {},
   "outputs": [],
   "source": [
    "SUN_PATH= os.path.join('faces','sunshine')\n",
    "\n",
    "os.makedirs(SUN_PATH)"
   ]
  },
  {
   "cell_type": "code",
   "execution_count": null,
   "metadata": {},
   "outputs": [],
   "source": [
    "!unzip -j images.zip -d 'faces/all_images/'"
   ]
  },
  {
   "attachments": {},
   "cell_type": "markdown",
   "metadata": {},
   "source": [
    "### Downloading the HAAR Face Classifier "
   ]
  },
  {
   "cell_type": "code",
   "execution_count": null,
   "metadata": {},
   "outputs": [],
   "source": [
    "os.makedirs('haarcascade')"
   ]
  },
  {
   "cell_type": "code",
   "execution_count": null,
   "metadata": {},
   "outputs": [],
   "source": [
    "!wget -b 'https://raw.githubusercontent.com/kipr/opencv/master/data/haarcascades/haarcascade_frontalface_default.xml' -P 'haarcascade/'"
   ]
  },
  {
   "attachments": {},
   "cell_type": "markdown",
   "metadata": {},
   "source": [
    "### Sorting images to find images good for encoding"
   ]
  },
  {
   "cell_type": "code",
   "execution_count": null,
   "metadata": {},
   "outputs": [],
   "source": [
    "face_cascade = cv2.CascadeClassifier('haarcascade/haarcascade_frontalface_default.xml')"
   ]
  },
  {
   "cell_type": "code",
   "execution_count": null,
   "metadata": {},
   "outputs": [],
   "source": [
    "#image cropping needs to be done\n",
    "for image in os.listdir(os.path.join('faces','all_images')):\n",
    "\n",
    "    impath=os.path.join('faces','all_images',image)\n",
    "    img=cv2.imread(impath)\n",
    "    newpath=os.path.join('faces','sunshine',image)\n",
    "\n",
    "    faces = face_cascade.detectMultiScale(img, 1.3, 5)\n",
    "\n",
    "    for (x,y,w,h) in faces:\n",
    "        roi_image = img[y:y+h+50, x:x+w+50]\n",
    "    \n",
    "    cv2.imshow(\"Sunshine Images\",roi_image)\n",
    "    \n",
    "    if cv2.waitKey(3000) & 0xff == ord('s'):\n",
    "        print(\"saved\",newpath)\n",
    "        cv2.imwrite(newpath, roi_image)\n",
    "    else:\n",
    "        cv2.waitKey(0)\n",
    "\n",
    "cv2.destroyAllWindows()"
   ]
  }
 ],
 "metadata": {
  "kernelspec": {
   "display_name": "face-recognition-BOi5ueDa",
   "language": "python",
   "name": "python3"
  },
  "language_info": {
   "codemirror_mode": {
    "name": "ipython",
    "version": 3
   },
   "file_extension": ".py",
   "mimetype": "text/x-python",
   "name": "python",
   "nbconvert_exporter": "python",
   "pygments_lexer": "ipython3",
   "version": "3.10.8 (main, Oct 11 2022, 20:04:56) [GCC 12.2.0]"
  },
  "orig_nbformat": 4,
  "vscode": {
   "interpreter": {
    "hash": "b5afb5523b08507dd35f664fb7e6cbdd060c018d857c3d51d2c7f957ee02d9d0"
   }
  }
 },
 "nbformat": 4,
 "nbformat_minor": 2
}
